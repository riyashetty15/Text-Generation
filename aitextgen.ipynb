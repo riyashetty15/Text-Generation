{
 "cells": [
  {
   "cell_type": "code",
   "execution_count": null,
   "metadata": {},
   "outputs": [],
   "source": [
    "from aitextgen import aitextgen\n",
    "import pandas as pd"
   ]
  },
  {
   "cell_type": "code",
   "execution_count": null,
   "metadata": {},
   "outputs": [],
   "source": []
  },
  {
   "cell_type": "code",
   "execution_count": null,
   "metadata": {},
   "outputs": [],
   "source": [
    "oneliners = []\n",
    "with open(\"posts_oneliners.txt\") as file_in:\n",
    "    for line in file_in:\n",
    "        oneliners.append(line.replace(\"\\n\", \"\"))\n",
    "\n",
    "len(oneliners)"
   ]
  },
  {
   "cell_type": "code",
   "execution_count": null,
   "metadata": {},
   "outputs": [],
   "source": [
    "posts_sixwordstories = []\n",
    "with open(\"posts_sixwordstories.txt\") as file_in:\n",
    "    for line in file_in:\n",
    "        posts_sixwordstories.append(line.replace(\"\\n\", \"\"))\n",
    "\n",
    "len(posts_sixwordstories)"
   ]
  },
  {
   "cell_type": "code",
   "execution_count": null,
   "metadata": {},
   "outputs": [],
   "source": []
  },
  {
   "cell_type": "code",
   "execution_count": null,
   "metadata": {},
   "outputs": [],
   "source": [
    "model_name = 'gpt2'\n",
    "text_minimum_length = 20\n",
    "text_maximum_length = 512"
   ]
  },
  {
   "cell_type": "code",
   "execution_count": null,
   "metadata": {},
   "outputs": [],
   "source": [
    "textgen = aitextgen(model = model_name)"
   ]
  },
  {
   "cell_type": "code",
   "execution_count": null,
   "metadata": {},
   "outputs": [],
   "source": [
    "def gen_text(line):\n",
    "    text = textgen.generate(\n",
    "        n=1, \n",
    "        prompt=line, \n",
    "        min_length=text_minimum_length, \n",
    "        max_length=text_maximum_length, \n",
    "        return_as_list=True\n",
    "        )\n",
    "    return text[0]"
   ]
  },
  {
   "cell_type": "code",
   "execution_count": null,
   "metadata": {},
   "outputs": [],
   "source": [
    "for i in range(len(oneliners)):\n",
    "    out_text = gen_text(oneliners[i])\n",
    "    with open('text_outputs/1Liner_'+str(i)+'.txt','w') as f:\n",
    "        f.write(out_text)"
   ]
  },
  {
   "cell_type": "code",
   "execution_count": null,
   "metadata": {},
   "outputs": [],
   "source": [
    "for i in range(len(posts_sixwordstories)):\n",
    "    out_text = gen_text(posts_sixwordstories[i])\n",
    "    with open('text_outputs/6Words_'+str(i)+'.txt','w') as f:\n",
    "        f.write(out_text)"
   ]
  },
  {
   "cell_type": "code",
   "execution_count": null,
   "metadata": {},
   "outputs": [],
   "source": []
  }
 ],
 "metadata": {
  "interpreter": {
   "hash": "af0e3876c4557c26afd7573da42638e52c3b2bd745e229381d02044cdf220a66"
  },
  "kernelspec": {
   "display_name": "Python 3.8.5 ('base')",
   "language": "python",
   "name": "python3"
  },
  "language_info": {
   "codemirror_mode": {
    "name": "ipython",
    "version": 3
   },
   "file_extension": ".py",
   "mimetype": "text/x-python",
   "name": "python",
   "nbconvert_exporter": "python",
   "pygments_lexer": "ipython3",
   "version": "3.8.5"
  },
  "orig_nbformat": 4
 },
 "nbformat": 4,
 "nbformat_minor": 2
}
